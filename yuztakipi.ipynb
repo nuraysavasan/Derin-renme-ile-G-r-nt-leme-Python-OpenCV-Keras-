{
  "nbformat": 4,
  "nbformat_minor": 0,
  "metadata": {
    "colab": {
      "provenance": [],
      "authorship_tag": "ABX9TyO8h/j6ulDJU6Jl+KQObIzB",
      "include_colab_link": true
    },
    "kernelspec": {
      "name": "python3",
      "display_name": "Python 3"
    },
    "language_info": {
      "name": "python"
    }
  },
  "cells": [
    {
      "cell_type": "markdown",
      "metadata": {
        "id": "view-in-github",
        "colab_type": "text"
      },
      "source": [
        "<a href=\"https://colab.research.google.com/github/nuraysavasan/Derin-renme-ile-G-r-nt-leme-Python-OpenCV-Keras-/blob/main/yuztakipi.ipynb\" target=\"_parent\"><img src=\"https://colab.research.google.com/assets/colab-badge.svg\" alt=\"Open In Colab\"/></a>"
      ]
    },
    {
      "cell_type": "code",
      "execution_count": 6,
      "metadata": {
        "id": "_df0ambnHTKV"
      },
      "outputs": [],
      "source": [
        "import cv2\n",
        "import numpy as np\n",
        "cap=cv2.VideoCapture(0) #kamera ac\n",
        "\n",
        "ret,frame=cap.read() #bi rtane frame ok\n",
        "if ret==False:\n",
        "  print(\"uyari\")\n",
        "\n",
        "face_cascade=cv2.CascadeClassifier(\"haarcascade_frontalface_default.xml\")\n",
        "face_rect=face_cascade.detectMultiScale(frame)\n",
        "(face_x,face_y,w,h)=tuple(face_rect[0])\n",
        "track_window=(face_x,face_y,w,h) #meanshipt algoritması giedisi\n",
        "\n",
        "#region of interest\n",
        "roi=frame[face_y:face_y+h,face_x:face_x+w] #roi=face\n",
        "\n",
        "hsv_roi=cv2.cvtColor(roi,cv2.COLOR_BGR2HSV)\n",
        "roi_hist=cv2.calcHis([hsv_roi],[0],None,[180],[0,180]) #takip için histogrm gerekli\n",
        "cv2.normalize(roi_hist,roi_hist,0,255,cv2.NORM_MINMAX)\n",
        "\n",
        "#takip için gerekli durdurma kriterleri\n",
        "#count=hesaplanacak maksimum oge sayısı\n",
        "#eps=değişiklik\n",
        "\n",
        "term_crit=(cv2.TERM_CRITERIA_EPS | cv2.TERM_CRITERIA_COUNT,5,1)\n",
        "while True:\n",
        "  ret,frame=cap.read()\n",
        "  if ret:\n",
        "    hsv=cv2.cvtColor(frame,cv2.COLOR_BGR2HSV)\n",
        "    #histogramı bir görüntüde bulmak için kullanıyoruz\n",
        "    #piksel karşılastırma\n",
        "    dst=cv2.calcBackProject([hsv],[0],roi_hist,[0,180],1)\n",
        "    ret,track_window=cv2.meanShift(dst,track_window,term_crit)\n",
        "    x,y,w,h=track_window\n",
        "    img2=cv2.rectangle(frame,(x,y),(x+w,y+h),(0,0,255),5)\n",
        "    cv2.imshow(\"takip\",img2)\n",
        "    if cv2.waitKey(1)&0xFF==ord(\"q\"):break\n",
        "cap.release()\n",
        "cv2.destroyAllWindows()\n",
        "\n",
        "\n",
        "\n",
        "\n",
        "\n",
        "\n",
        "\n",
        "\n",
        "\n",
        "\n",
        "\n",
        "\n",
        "\n",
        "\n"
      ]
    }
  ]
}